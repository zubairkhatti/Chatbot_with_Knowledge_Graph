{
 "cells": [
  {
   "cell_type": "markdown",
   "metadata": {},
   "source": [
    "https://python.langchain.com/docs/use_cases/graph/quickstart/"
   ]
  },
  {
   "cell_type": "markdown",
   "metadata": {},
   "source": [
    "**Start the Movie graph vectorDB in neo4j Desktop**"
   ]
  },
  {
   "cell_type": "code",
   "execution_count": 1,
   "metadata": {},
   "outputs": [],
   "source": [
    "from dotenv import load_dotenv\n",
    "import os\n",
    "from langchain_google_genai import ChatGoogleGenerativeAI\n",
    "from langchain_core.messages import SystemMessage, HumanMessage\n",
    "from langchain_community.graphs import Neo4jGraph\n",
    "load_dotenv()\n",
    "import warnings\n",
    "warnings.filterwarnings(\"ignore\")"
   ]
  },
  {
   "cell_type": "markdown",
   "metadata": {},
   "source": [
    "**Load the LLM (e.g: GEMINI 2.5 Flash)**"
   ]
  },
  {
   "cell_type": "code",
   "execution_count": 2,
   "metadata": {},
   "outputs": [],
   "source": [
    "llm = ChatGoogleGenerativeAI(\n",
    "    model = os.getenv(\"MODEL_NAME\"),\n",
    "    temperature = os.getenv(\"TEMPERATURE\"),\n",
    "    google_api_key=os.getenv(\"GOOGLE_API_KEY\"),\n",
    ")"
   ]
  },
  {
   "cell_type": "markdown",
   "metadata": {},
   "source": [
    "**Add Neo4j credentials (These information need to be kept secret)**"
   ]
  },
  {
   "cell_type": "code",
   "execution_count": 3,
   "metadata": {},
   "outputs": [],
   "source": [
    "NEO4J_URI = \"bolt://localhost:7687\"\n",
    "NEO4J_USERNAME = \"neo4j\"\n",
    "NEO4J_PASSWORD = \"12345678\"\n",
    "NEO4J_DATABASE = 'neo4j'"
   ]
  },
  {
   "cell_type": "code",
   "execution_count": 4,
   "metadata": {},
   "outputs": [
    {
     "name": "stderr",
     "output_type": "stream",
     "text": [
      "/tmp/ipykernel_219859/3255001440.py:1: LangChainDeprecationWarning: The class `Neo4jGraph` was deprecated in LangChain 0.3.8 and will be removed in 1.0. An updated version of the class exists in the :class:`~langchain-neo4j package and should be used instead. To use it run `pip install -U :class:`~langchain-neo4j` and import as `from :class:`~langchain_neo4j import Neo4jGraph``.\n",
      "  graph = Neo4jGraph(url=NEO4J_URI, username=NEO4J_USERNAME, password=NEO4J_PASSWORD, database=NEO4J_DATABASE)\n"
     ]
    }
   ],
   "source": [
    "\n",
    "graph = Neo4jGraph(url=NEO4J_URI, username=NEO4J_USERNAME, password=NEO4J_PASSWORD, database=NEO4J_DATABASE)"
   ]
  },
  {
   "cell_type": "markdown",
   "metadata": {},
   "source": [
    "**Print the graph database schema**"
   ]
  },
  {
   "cell_type": "code",
   "execution_count": 5,
   "metadata": {},
   "outputs": [
    {
     "name": "stdout",
     "output_type": "stream",
     "text": [
      "Node properties:\n",
      "Movie {imdbRating: FLOAT, taglineEmbedding: LIST, tagline: STRING, released: DATE, title: STRING, id: STRING}\n",
      "Person {name: STRING}\n",
      "Genre {name: STRING}\n",
      "Location {name: STRING}\n",
      "SimilarMovie {name: STRING}\n",
      "Relationship properties:\n",
      "\n",
      "The relationships:\n",
      "(:Movie)-[:IN_GENRE]->(:Genre)\n",
      "(:Movie)-[:WAS_TAKEN_IN]->(:Location)\n",
      "(:Movie)-[:IS_SIMILAR_TO]->(:SimilarMovie)\n",
      "(:Person)-[:DIRECTED]->(:Movie)\n",
      "(:Person)-[:ACTED_IN]->(:Movie)\n"
     ]
    }
   ],
   "source": [
    "graph.refresh_schema()\n",
    "print(graph.schema)"
   ]
  },
  {
   "cell_type": "markdown",
   "metadata": {},
   "source": [
    "Questions"
   ]
  },
  {
   "cell_type": "code",
   "execution_count": 6,
   "metadata": {},
   "outputs": [],
   "source": [
    "q_one = \"What was the cast of the Casino?\"\n",
    "q_two = \"What are the most common genres for movies released in 1995?\"\n",
    "q_three = \"What are the similar movies to the ones that Tom Hanks acted in?\""
   ]
  },
  {
   "cell_type": "markdown",
   "metadata": {},
   "source": [
    "### **Chain**"
   ]
  },
  {
   "cell_type": "markdown",
   "metadata": {},
   "source": [
    "**`Simple Agent (a)`:**"
   ]
  },
  {
   "cell_type": "code",
   "execution_count": 7,
   "metadata": {},
   "outputs": [],
   "source": [
    "from langchain.chains import GraphCypherQAChain\n",
    "\n",
    "chain = GraphCypherQAChain.from_llm(\n",
    "    graph=graph, \n",
    "    llm=llm, \n",
    "    verbose=True,\n",
    "    return_intermediate_steps=True,\n",
    "    allow_dangerous_requests=True\n",
    ")"
   ]
  },
  {
   "cell_type": "code",
   "execution_count": 8,
   "metadata": {},
   "outputs": [
    {
     "name": "stdout",
     "output_type": "stream",
     "text": [
      "\n",
      "\n",
      "\u001b[1m> Entering new GraphCypherQAChain chain...\u001b[0m\n",
      "Generated Cypher:\n",
      "\u001b[32;1m\u001b[1;3mcypher\n",
      "MATCH (p:Person)-[:ACTED_IN]->(m:Movie) WHERE m.title = 'Casino' RETURN p.name\n",
      "\u001b[0m\n",
      "Full Context:\n",
      "\u001b[32;1m\u001b[1;3m[{'p.name': 'James Woods'}, {'p.name': 'Robert De Niro'}, {'p.name': 'Sharon Stone'}, {'p.name': 'Joe Pesci'}]\u001b[0m\n",
      "\n",
      "\u001b[1m> Finished chain.\u001b[0m\n",
      "{'query': 'What was the cast of the Casino?', 'result': 'The cast of the Casino was James Woods, Robert De Niro, Sharon Stone, Joe Pesci.', 'intermediate_steps': [{'query': \"cypher\\nMATCH (p:Person)-[:ACTED_IN]->(m:Movie) WHERE m.title = 'Casino' RETURN p.name\\n\"}, {'context': [{'p.name': 'James Woods'}, {'p.name': 'Robert De Niro'}, {'p.name': 'Sharon Stone'}, {'p.name': 'Joe Pesci'}]}]}\n",
      "\n",
      "LLM response: The cast of the Casino was James Woods, Robert De Niro, Sharon Stone, Joe Pesci.\n"
     ]
    }
   ],
   "source": [
    "response = chain.invoke({\"query\": q_one})\n",
    "print(response)\n",
    "print(\"\\nLLM response:\", response[\"result\"])"
   ]
  },
  {
   "cell_type": "code",
   "execution_count": 9,
   "metadata": {},
   "outputs": [
    {
     "name": "stdout",
     "output_type": "stream",
     "text": [
      "\n",
      "\n",
      "\u001b[1m> Entering new GraphCypherQAChain chain...\u001b[0m\n",
      "Generated Cypher:\n",
      "\u001b[32;1m\u001b[1;3mcypher\n",
      "MATCH (m:Movie)-[:IN_GENRE]->(g:Genre)\n",
      "WHERE m.released.year = 1995\n",
      "RETURN g.name AS genre, count(m) AS movieCount\n",
      "ORDER BY movieCount DESC\n",
      "\u001b[0m\n",
      "Full Context:\n",
      "\u001b[32;1m\u001b[1;3m[{'genre': 'Comedy', 'movieCount': 10}, {'genre': 'Adventure', 'movieCount': 6}, {'genre': 'Romance', 'movieCount': 5}, {'genre': 'Action', 'movieCount': 5}, {'genre': 'Children', 'movieCount': 4}, {'genre': 'Drama', 'movieCount': 4}, {'genre': 'Crime', 'movieCount': 3}, {'genre': 'Thriller', 'movieCount': 3}, {'genre': 'Fantasy', 'movieCount': 2}, {'genre': 'Animation', 'movieCount': 2}]\u001b[0m\n",
      "\n",
      "\u001b[1m> Finished chain.\u001b[0m\n",
      "{'query': 'What are the most common genres for movies released in 1995?', 'result': 'The most common genres for movies released in 1995 are Comedy with 10 movies, Adventure with 6 movies, Romance and Action with 5 movies each, Children and Drama with 4 movies each, Crime and Thriller with 3 movies each, and Fantasy and Animation with 2 movies each.', 'intermediate_steps': [{'query': 'cypher\\nMATCH (m:Movie)-[:IN_GENRE]->(g:Genre)\\nWHERE m.released.year = 1995\\nRETURN g.name AS genre, count(m) AS movieCount\\nORDER BY movieCount DESC\\n'}, {'context': [{'genre': 'Comedy', 'movieCount': 10}, {'genre': 'Adventure', 'movieCount': 6}, {'genre': 'Romance', 'movieCount': 5}, {'genre': 'Action', 'movieCount': 5}, {'genre': 'Children', 'movieCount': 4}, {'genre': 'Drama', 'movieCount': 4}, {'genre': 'Crime', 'movieCount': 3}, {'genre': 'Thriller', 'movieCount': 3}, {'genre': 'Fantasy', 'movieCount': 2}, {'genre': 'Animation', 'movieCount': 2}]}]}\n",
      "\n",
      "LLM response: The most common genres for movies released in 1995 are Comedy with 10 movies, Adventure with 6 movies, Romance and Action with 5 movies each, Children and Drama with 4 movies each, Crime and Thriller with 3 movies each, and Fantasy and Animation with 2 movies each.\n"
     ]
    }
   ],
   "source": [
    "response = chain.invoke({\"query\": q_two})\n",
    "print(response)\n",
    "print(\"\\nLLM response:\", response[\"result\"])"
   ]
  },
  {
   "cell_type": "code",
   "execution_count": 10,
   "metadata": {},
   "outputs": [
    {
     "name": "stdout",
     "output_type": "stream",
     "text": [
      "\n",
      "\n",
      "\u001b[1m> Entering new GraphCypherQAChain chain...\u001b[0m\n",
      "Generated Cypher:\n",
      "\u001b[32;1m\u001b[1;3mcypher\n",
      "MATCH (p:Person)-[:ACTED_IN]->(m:Movie)\n",
      "WHERE p.name = 'Tom Hanks'\n",
      "MATCH (m)-[:IS_SIMILAR_TO]->(sm:SimilarMovie)\n",
      "RETURN sm.name\n",
      "\u001b[0m\n",
      "Full Context:\n",
      "\u001b[32;1m\u001b[1;3m[{'sm.name': 'Finding Nemo'}]\u001b[0m\n",
      "\n",
      "\u001b[1m> Finished chain.\u001b[0m\n",
      "{'query': 'What are the similar movies to the ones that Tom Hanks acted in?', 'result': \"I don't know the answer.\", 'intermediate_steps': [{'query': \"cypher\\nMATCH (p:Person)-[:ACTED_IN]->(m:Movie)\\nWHERE p.name = 'Tom Hanks'\\nMATCH (m)-[:IS_SIMILAR_TO]->(sm:SimilarMovie)\\nRETURN sm.name\\n\"}, {'context': [{'sm.name': 'Finding Nemo'}]}]}\n",
      "\n",
      "LLM response: I don't know the answer.\n"
     ]
    }
   ],
   "source": [
    "response = chain.invoke({\"query\": q_three})\n",
    "print(response)\n",
    "print(\"\\nLLM response:\", response[\"result\"])"
   ]
  },
  {
   "cell_type": "markdown",
   "metadata": {},
   "source": [
    "**`Simple Agent (b):`**"
   ]
  },
  {
   "cell_type": "markdown",
   "metadata": {},
   "source": [
    "**Validating relationship direction**\n",
    "\n",
    "LLMs can struggle with relationship directions in generated Cypher statement. Since the graph schema is predefined, we can validate and optionally correct relationship directions in the generated Cypher statements by using the validate_cypher parameter."
   ]
  },
  {
   "cell_type": "code",
   "execution_count": 11,
   "metadata": {},
   "outputs": [],
   "source": [
    "chain = GraphCypherQAChain.from_llm(\n",
    "    graph=graph, \n",
    "    llm=llm, \n",
    "    verbose=True, \n",
    "    validate_cypher=True,\n",
    "    return_intermediate_steps=True,\n",
    "    allow_dangerous_requests=True\n",
    ")"
   ]
  },
  {
   "cell_type": "code",
   "execution_count": 12,
   "metadata": {},
   "outputs": [
    {
     "name": "stdout",
     "output_type": "stream",
     "text": [
      "\n",
      "\n",
      "\u001b[1m> Entering new GraphCypherQAChain chain...\u001b[0m\n",
      "Generated Cypher:\n",
      "\u001b[32;1m\u001b[1;3mcypher\n",
      "MATCH (p:Person)-[:ACTED_IN]->(m:Movie) WHERE m.title = 'Casino' RETURN p.name\n",
      "\u001b[0m\n",
      "Full Context:\n",
      "\u001b[32;1m\u001b[1;3m[{'p.name': 'James Woods'}, {'p.name': 'Robert De Niro'}, {'p.name': 'Sharon Stone'}, {'p.name': 'Joe Pesci'}]\u001b[0m\n",
      "\n",
      "\u001b[1m> Finished chain.\u001b[0m\n",
      "{'query': 'What was the cast of the Casino?', 'result': 'The cast of the Casino was James Woods, Robert De Niro, Sharon Stone, Joe Pesci.', 'intermediate_steps': [{'query': \"cypher\\nMATCH (p:Person)-[:ACTED_IN]->(m:Movie) WHERE m.title = 'Casino' RETURN p.name\\n\"}, {'context': [{'p.name': 'James Woods'}, {'p.name': 'Robert De Niro'}, {'p.name': 'Sharon Stone'}, {'p.name': 'Joe Pesci'}]}]}\n",
      "\n",
      "LLM response: The cast of the Casino was James Woods, Robert De Niro, Sharon Stone, Joe Pesci.\n"
     ]
    }
   ],
   "source": [
    "response = chain.invoke({\"query\": q_one})\n",
    "print(response)\n",
    "print(\"\\nLLM response:\", response[\"result\"])"
   ]
  },
  {
   "cell_type": "code",
   "execution_count": 13,
   "metadata": {},
   "outputs": [
    {
     "name": "stdout",
     "output_type": "stream",
     "text": [
      "\n",
      "\n",
      "\u001b[1m> Entering new GraphCypherQAChain chain...\u001b[0m\n",
      "Generated Cypher:\n",
      "\u001b[32;1m\u001b[1;3mMATCH (m:Movie)-[:IN_GENRE]->(g:Genre)\n",
      "WHERE m.released.year = 1995\n",
      "RETURN g.name AS Genre, count(g) AS MovieCount\n",
      "ORDER BY MovieCount DESC\u001b[0m\n",
      "Full Context:\n",
      "\u001b[32;1m\u001b[1;3m[{'Genre': 'Comedy', 'MovieCount': 10}, {'Genre': 'Adventure', 'MovieCount': 6}, {'Genre': 'Romance', 'MovieCount': 5}, {'Genre': 'Action', 'MovieCount': 5}, {'Genre': 'Children', 'MovieCount': 4}, {'Genre': 'Drama', 'MovieCount': 4}, {'Genre': 'Crime', 'MovieCount': 3}, {'Genre': 'Thriller', 'MovieCount': 3}, {'Genre': 'Fantasy', 'MovieCount': 2}, {'Genre': 'Animation', 'MovieCount': 2}]\u001b[0m\n",
      "\n",
      "\u001b[1m> Finished chain.\u001b[0m\n",
      "{'query': 'What are the most common genres for movies released in 1995?', 'result': 'The most common genres for movies released in 1995 are: Comedy (10), Adventure (6), Romance (5), Action (5), Children (4), Drama (4), Crime (3), Thriller (3), Fantasy (2), and Animation (2).', 'intermediate_steps': [{'query': 'MATCH (m:Movie)-[:IN_GENRE]->(g:Genre)\\nWHERE m.released.year = 1995\\nRETURN g.name AS Genre, count(g) AS MovieCount\\nORDER BY MovieCount DESC'}, {'context': [{'Genre': 'Comedy', 'MovieCount': 10}, {'Genre': 'Adventure', 'MovieCount': 6}, {'Genre': 'Romance', 'MovieCount': 5}, {'Genre': 'Action', 'MovieCount': 5}, {'Genre': 'Children', 'MovieCount': 4}, {'Genre': 'Drama', 'MovieCount': 4}, {'Genre': 'Crime', 'MovieCount': 3}, {'Genre': 'Thriller', 'MovieCount': 3}, {'Genre': 'Fantasy', 'MovieCount': 2}, {'Genre': 'Animation', 'MovieCount': 2}]}]}\n",
      "\n",
      "LLM response: The most common genres for movies released in 1995 are: Comedy (10), Adventure (6), Romance (5), Action (5), Children (4), Drama (4), Crime (3), Thriller (3), Fantasy (2), and Animation (2).\n"
     ]
    }
   ],
   "source": [
    "response = chain.invoke({\"query\": q_two})\n",
    "print(response)\n",
    "print(\"\\nLLM response:\", response[\"result\"])"
   ]
  },
  {
   "cell_type": "code",
   "execution_count": 14,
   "metadata": {},
   "outputs": [
    {
     "name": "stdout",
     "output_type": "stream",
     "text": [
      "\n",
      "\n",
      "\u001b[1m> Entering new GraphCypherQAChain chain...\u001b[0m\n",
      "Generated Cypher:\n",
      "\u001b[32;1m\u001b[1;3mcypher\n",
      "MATCH (p:Person)-[:ACTED_IN]->(m:Movie)\n",
      "WHERE p.name = 'Tom Hanks'\n",
      "MATCH (m)-[:IS_SIMILAR_TO]->(sm:SimilarMovie)\n",
      "RETURN sm.name\n",
      "\u001b[0m\n",
      "Full Context:\n",
      "\u001b[32;1m\u001b[1;3m[{'sm.name': 'Finding Nemo'}]\u001b[0m\n",
      "\n",
      "\u001b[1m> Finished chain.\u001b[0m\n",
      "{'query': 'What are the similar movies to the ones that Tom Hanks acted in?', 'result': \"I don't know the answer.\", 'intermediate_steps': [{'query': \"cypher\\nMATCH (p:Person)-[:ACTED_IN]->(m:Movie)\\nWHERE p.name = 'Tom Hanks'\\nMATCH (m)-[:IS_SIMILAR_TO]->(sm:SimilarMovie)\\nRETURN sm.name\\n\"}, {'context': [{'sm.name': 'Finding Nemo'}]}]}\n",
      "\n",
      "LLM response: I don't know the answer.\n"
     ]
    }
   ],
   "source": [
    "response = chain.invoke({\"query\": q_three})\n",
    "print(response)\n",
    "print(\"\\nLLM response:\", response[\"result\"])"
   ]
  },
  {
   "cell_type": "markdown",
   "metadata": {},
   "source": [
    "----------------------------------------"
   ]
  },
  {
   "cell_type": "markdown",
   "metadata": {},
   "source": [
    "**`Improved Agents`: Contains 4 steps**\n",
    "1. Detecting entities in the user input\n",
    "2. Match entities to database.\n",
    "3. Define a custom Cypher prompt that takes the entity mapping information along with the schema and the user question to construct a Cypher statement.\n",
    "4. Generating answers based on database results"
   ]
  },
  {
   "cell_type": "markdown",
   "metadata": {},
   "source": [
    "### **Strategies to improve graph database query generation by mapping values from user inputs to database**\n",
    "\n",
    "When using the built-in graph chains, the LLM is aware of the graph schema, but has no information about the values of properties stored in the database. Therefore, we can introduce a new step in graph database QA system to accurately map values."
   ]
  },
  {
   "cell_type": "markdown",
   "metadata": {},
   "source": [
    "**Detecting entities in the user input**\n",
    "\n",
    "We have to extract the types of entities/values we want to map to a graph database. In this example, we are dealing with a movie graph, so we can map movies and people to the database."
   ]
  },
  {
   "cell_type": "code",
   "execution_count": 15,
   "metadata": {},
   "outputs": [],
   "source": [
    "from langchain_core.prompts import ChatPromptTemplate\n",
    "from langchain_core.output_parsers import StrOutputParser\n",
    "from langchain_core.runnables import RunnableLambda\n",
    "import json\n",
    "import re\n",
    "\n",
    "prompt = ChatPromptTemplate.from_messages(\n",
    "    [\n",
    "        (\"system\", \"Extract all important entities (like person names, movie names, or years) from the user's question. \"\n",
    "               \"Return only valid JSON in format: {{\\\"names\\\": [\\\"...\\\"]}}\"),\n",
    "        (\"human\", \"Question: {question}\")\n",
    "    ]\n",
    ")\n",
    "\n",
    "# LLM returned response may have raw json or raw cypher query\n",
    "# This function will filter the \"`\" or \"json/cypher\" from response\n",
    "def parse_entities_flexible(output):\n",
    "    if isinstance(output, dict):\n",
    "        return output\n",
    "\n",
    "    try:\n",
    "        # Remove leading/trailing whitespace\n",
    "        cleaned = output.strip()\n",
    "        \n",
    "        # Match and remove triple backtick code block with optional language tag\n",
    "        code_block_match = re.match(r\"^```(?:\\s*)(\\w+)?(?:\\s*)\\n?(.*)```$\", cleaned, re.DOTALL | re.IGNORECASE)\n",
    "        if code_block_match:\n",
    "            language = code_block_match.group(1) or \"\"\n",
    "            content = code_block_match.group(2).strip()\n",
    "        else:\n",
    "            # Fallback: remove stray backticks if not a full code block\n",
    "            content = cleaned.strip(\"`\").strip()\n",
    "            language = \"\"\n",
    "\n",
    "        if language.lower() == \"json\":\n",
    "            try:\n",
    "                return json.loads(content)\n",
    "            except Exception as e:\n",
    "                print(\"Error parsing JSON:\", e)\n",
    "                return {\"names\": []}\n",
    "        else:\n",
    "            # For non-JSON (e.g., cypher), just return the content as-is\n",
    "            return content\n",
    "\n",
    "    except Exception as e:\n",
    "        print(\"Unexpected error:\", e)\n",
    "        return {\"names\": []}\n",
    "\n",
    "\n",
    "entity_chain = prompt | llm | StrOutputParser() | RunnableLambda(parse_entities_flexible)"
   ]
  },
  {
   "cell_type": "code",
   "execution_count": 16,
   "metadata": {},
   "outputs": [
    {
     "name": "stdout",
     "output_type": "stream",
     "text": [
      "{'names': ['1995']}\n",
      "{'names': ['Tom Hanks']}\n"
     ]
    }
   ],
   "source": [
    "entities_q_two = entity_chain.invoke({\"question\": q_two})\n",
    "print(entities_q_two)\n",
    "\n",
    "entities_q_three = entity_chain.invoke({\"question\": q_three})\n",
    "print(entities_q_three)"
   ]
  },
  {
   "cell_type": "markdown",
   "metadata": {},
   "source": [
    "**Utilizing a simple CONTAINS clause to match entities to database. In practice, you might want to use a fuzzy search or a fulltext index to allow for minor misspellings.**"
   ]
  },
  {
   "cell_type": "code",
   "execution_count": 17,
   "metadata": {},
   "outputs": [],
   "source": [
    "match_query = \"\"\"MATCH (p:Person|Movie)\n",
    "WHERE p.name CONTAINS $value OR p.title CONTAINS $value\n",
    "RETURN coalesce(p.name, p.title) AS result, labels(p)[0] AS type\n",
    "LIMIT 1\n",
    "\"\"\"\n",
    "\n",
    "def map_to_database(values)->str:\n",
    "    \"\"\"\n",
    "    Maps the values to entities in the database and returns the mapping information.\n",
    "\n",
    "    Args:\n",
    "        values (list): A list of values to map to entities in the database.\n",
    "\n",
    "    Returns:\n",
    "        str: A string containing the mapping information of each value to entities in the \n",
    "    \"\"\"\n",
    "    result = \"\"\n",
    "    for entity in values[\"names\"]:\n",
    "        response = graph.query(match_query, {\"value\": entity})\n",
    "        try:\n",
    "            result += f\"{entity} maps to {response[0]['result']} {response[0]['type']} in database\\n\"\n",
    "        except IndexError:\n",
    "            pass\n",
    "    return result"
   ]
  },
  {
   "cell_type": "code",
   "execution_count": 18,
   "metadata": {},
   "outputs": [
    {
     "name": "stdout",
     "output_type": "stream",
     "text": [
      "2: \n",
      "3: Tom Hanks maps to Tom Hanks Person in database\n",
      "\n"
     ]
    }
   ],
   "source": [
    "print(\"2:\", map_to_database(entities_q_two))\n",
    "print(\"3:\", map_to_database(entities_q_three))"
   ]
  },
  {
   "cell_type": "markdown",
   "metadata": {},
   "source": [
    "**Custom Cypher generating chain**\n",
    "\n",
    "We need to define a custom Cypher prompt that takes the entity mapping information along with the schema and the user question to construct a Cypher statement. We will be using the LangChain expression language to accomplish that."
   ]
  },
  {
   "cell_type": "code",
   "execution_count": 19,
   "metadata": {},
   "outputs": [],
   "source": [
    "from langchain_core.output_parsers import StrOutputParser\n",
    "from langchain_core.runnables import RunnablePassthrough\n",
    "\n",
    "# Generate Cypher statement based on natural language input\n",
    "cypher_template = \"\"\"Based on the Neo4j graph schema below, write a Cypher query that would answer the user's question:\n",
    "{schema}\n",
    "Entities in the question map to the following database values:\n",
    "{entities_list}\n",
    "Question: {question}\n",
    "Cypher query:\"\"\"  # noqa: E501\n",
    "\n",
    "cypher_prompt = ChatPromptTemplate.from_messages(\n",
    "    [\n",
    "        (\n",
    "            \"system\",\n",
    "            \"Given an input question, convert it to a Cypher query. No pre-amble.\",\n",
    "        ),\n",
    "        (\"human\", cypher_template),\n",
    "    ]\n",
    ")\n",
    "\n",
    "cypher_response = (\n",
    "    RunnablePassthrough.assign(names=entity_chain)\n",
    "    | RunnablePassthrough.assign(\n",
    "        entities_list=lambda x: map_to_database(x),\n",
    "        schema=lambda _: graph.get_schema,\n",
    "    )\n",
    "    | cypher_prompt\n",
    "    | llm.bind(stop=[\"\\nCypherResult:\"])\n",
    "    | StrOutputParser()\n",
    "    | parse_entities_flexible\n",
    ")"
   ]
  },
  {
   "cell_type": "code",
   "execution_count": 20,
   "metadata": {},
   "outputs": [
    {
     "name": "stdout",
     "output_type": "stream",
     "text": [
      "MATCH (p:Person)-[:ACTED_IN]->(m:Movie)\n",
      "WHERE p.name = 'Tom Hanks'\n",
      "MATCH (m)-[:IS_SIMILAR_TO]->(sm:SimilarMovie)\n",
      "RETURN DISTINCT sm.name\n"
     ]
    }
   ],
   "source": [
    "cypher_q_three = cypher_response.invoke({\"question\": q_three})\n",
    "print(cypher_q_three)\n"
   ]
  },
  {
   "cell_type": "markdown",
   "metadata": {},
   "source": [
    "**Generating answers based on database results**\n",
    "\n",
    "Now that we have a chain that generates the Cypher statement, we need to execute the Cypher statement against the database and send the database results back to an LLM to generate the final answer. Again, we will be using LCEL"
   ]
  },
  {
   "cell_type": "code",
   "execution_count": 21,
   "metadata": {},
   "outputs": [
    {
     "name": "stderr",
     "output_type": "stream",
     "text": [
      "/tmp/ipykernel_219859/268401656.py:8: LangChainDeprecationWarning: The class `CypherQueryCorrector` was deprecated in LangChain 0.3.8 and will be removed in 1.0. An updated version of the class exists in the :class:`~langchain-neo4j package and should be used instead. To use it run `pip install -U :class:`~langchain-neo4j` and import as `from :class:`~langchain_neo4j.chains.graph_qa.cypher_utils import CypherQueryCorrector``.\n",
      "  cypher_validation = CypherQueryCorrector(corrector_schema)\n"
     ]
    }
   ],
   "source": [
    "from langchain.chains.graph_qa.cypher_utils import CypherQueryCorrector, Schema\n",
    "\n",
    "# Cypher validation tool for relationship directions\n",
    "corrector_schema = [\n",
    "    Schema(el[\"start\"], el[\"type\"], el[\"end\"])\n",
    "    for el in graph.structured_schema.get(\"relationships\")\n",
    "]\n",
    "cypher_validation = CypherQueryCorrector(corrector_schema)\n",
    "\n",
    "# Generate natural language response based on database results\n",
    "response_template = \"\"\"Based on the the question, Cypher query, and Cypher response, write a natural language response:\n",
    "Question: {question}\n",
    "Cypher query: {query}\n",
    "Cypher Response: {response}\"\"\"\n",
    "\n",
    "response_prompt = ChatPromptTemplate.from_messages(\n",
    "    [\n",
    "        (\n",
    "            \"system\",\n",
    "            \"Given an input question and Cypher response, convert it to a natural\"\n",
    "            \" language answer. No pre-amble.\",\n",
    "        ),\n",
    "        (\"human\", response_template),\n",
    "    ]\n",
    ")\n",
    "\n",
    "chain = (\n",
    "    RunnablePassthrough.assign(query=cypher_response)\n",
    "    | RunnablePassthrough.assign(\n",
    "        response=lambda x: graph.query(cypher_validation(x[\"query\"])),\n",
    "    )\n",
    "    | response_prompt\n",
    "    | llm\n",
    "    | StrOutputParser()\n",
    ")"
   ]
  },
  {
   "cell_type": "code",
   "execution_count": 22,
   "metadata": {},
   "outputs": [
    {
     "data": {
      "text/plain": [
       "'The cast of Casino included James Woods, Robert De Niro, Sharon Stone, and Joe Pesci.'"
      ]
     },
     "execution_count": 22,
     "metadata": {},
     "output_type": "execute_result"
    }
   ],
   "source": [
    "chain.invoke({\"question\": q_one})"
   ]
  },
  {
   "cell_type": "code",
   "execution_count": 23,
   "metadata": {},
   "outputs": [
    {
     "data": {
      "text/plain": [
       "'For movies released in 1995, the most common genres were Comedy with 10 movies, followed by Adventure with 6 movies, and Romance and Action each with 5 movies. Other popular genres included Children and Drama (4 movies each), Crime and Thriller (3 movies each), Fantasy and Animation (2 movies each), and Horror (1 movie).'"
      ]
     },
     "execution_count": 23,
     "metadata": {},
     "output_type": "execute_result"
    }
   ],
   "source": [
    "chain.invoke({\"question\": q_two})"
   ]
  },
  {
   "cell_type": "code",
   "execution_count": 24,
   "metadata": {},
   "outputs": [
    {
     "data": {
      "text/plain": [
       "'The similar movies to the ones that Tom Hanks acted in include Finding Nemo.'"
      ]
     },
     "execution_count": 24,
     "metadata": {},
     "output_type": "execute_result"
    }
   ],
   "source": [
    "chain.invoke({\"question\": q_three})"
   ]
  },
  {
   "cell_type": "code",
   "execution_count": 25,
   "metadata": {},
   "outputs": [
    {
     "data": {
      "text/plain": [
       "'There are 5 movies with the Action genre.'"
      ]
     },
     "execution_count": 25,
     "metadata": {},
     "output_type": "execute_result"
    }
   ],
   "source": [
    "chain.invoke({\"question\": \"How many of the movies have the Action genre?\"})"
   ]
  },
  {
   "cell_type": "markdown",
   "metadata": {},
   "source": [
    "Exercise:"
   ]
  },
  {
   "cell_type": "code",
   "execution_count": null,
   "metadata": {},
   "outputs": [],
   "source": [
    "chain.invoke({\"question\": \"From the movies that were taken in United States, how many had the comedy genre?\"})"
   ]
  }
 ],
 "metadata": {
  "kernelspec": {
   "display_name": ".venv",
   "language": "python",
   "name": "python3"
  },
  "language_info": {
   "codemirror_mode": {
    "name": "ipython",
    "version": 3
   },
   "file_extension": ".py",
   "mimetype": "text/x-python",
   "name": "python",
   "nbconvert_exporter": "python",
   "pygments_lexer": "ipython3",
   "version": "3.12.3"
  }
 },
 "nbformat": 4,
 "nbformat_minor": 2
}
