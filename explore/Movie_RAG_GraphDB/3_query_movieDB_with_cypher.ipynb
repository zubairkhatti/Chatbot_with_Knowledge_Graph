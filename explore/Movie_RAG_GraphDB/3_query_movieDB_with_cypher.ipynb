{
 "cells": [
  {
   "cell_type": "markdown",
   "metadata": {},
   "source": [
    "**Extra resource: Knowledge Graphs for RAG (`www.deeplearning.ai`)**\n",
    "\n",
    "**Start the Movie Neo4j DB**"
   ]
  },
  {
   "cell_type": "code",
   "execution_count": 1,
   "metadata": {},
   "outputs": [],
   "source": [
    "from langchain_community.graphs import Neo4jGraph"
   ]
  },
  {
   "cell_type": "code",
   "execution_count": 2,
   "metadata": {},
   "outputs": [],
   "source": [
    "NEO4J_URI = \"bolt://localhost:7687\"\n",
    "NEO4J_USERNAME = \"neo4j\"\n",
    "NEO4J_PASSWORD = \"12345678\"\n",
    "NEO4J_DATABASE = 'neo4j'"
   ]
  },
  {
   "cell_type": "code",
   "execution_count": 3,
   "metadata": {},
   "outputs": [
    {
     "name": "stderr",
     "output_type": "stream",
     "text": [
      "/tmp/ipykernel_223206/3535025753.py:1: LangChainDeprecationWarning: The class `Neo4jGraph` was deprecated in LangChain 0.3.8 and will be removed in 1.0. An updated version of the class exists in the :class:`~langchain-neo4j package and should be used instead. To use it run `pip install -U :class:`~langchain-neo4j` and import as `from :class:`~langchain_neo4j import Neo4jGraph``.\n",
      "  graph = Neo4jGraph(url=NEO4J_URI, username=NEO4J_USERNAME, password=NEO4J_PASSWORD, database=NEO4J_DATABASE)\n"
     ]
    }
   ],
   "source": [
    "graph = Neo4jGraph(url=NEO4J_URI, username=NEO4J_USERNAME, password=NEO4J_PASSWORD, database=NEO4J_DATABASE)"
   ]
  },
  {
   "cell_type": "code",
   "execution_count": 4,
   "metadata": {},
   "outputs": [
    {
     "data": {
      "text/plain": [
       "[{'count(n)': 155}]"
      ]
     },
     "execution_count": 4,
     "metadata": {},
     "output_type": "execute_result"
    }
   ],
   "source": [
    "# Match all nodes in the graph\n",
    "cypher = \"\"\"\n",
    "  MATCH (n) \n",
    "  RETURN count(n)\n",
    "  \"\"\"\n",
    "result = graph.query(cypher)\n",
    "result"
   ]
  },
  {
   "cell_type": "code",
   "execution_count": 5,
   "metadata": {},
   "outputs": [
    {
     "data": {
      "text/plain": [
       "[{'numberOfNodes': 155}]"
      ]
     },
     "execution_count": 5,
     "metadata": {},
     "output_type": "execute_result"
    }
   ],
   "source": [
    "cypher = \"\"\"\n",
    "  MATCH (n) \n",
    "  RETURN count(n) AS numberOfNodes\n",
    "  \"\"\"\n",
    "result = graph.query(cypher)\n",
    "result"
   ]
  },
  {
   "cell_type": "code",
   "execution_count": 6,
   "metadata": {},
   "outputs": [
    {
     "data": {
      "text/plain": [
       "[{'numberOfMovies': 20}]"
      ]
     },
     "execution_count": 6,
     "metadata": {},
     "output_type": "execute_result"
    }
   ],
   "source": [
    "# Match only the Movie nodes by specifying the node label\n",
    "\n",
    "cypher = \"\"\"\n",
    "  MATCH (m:Movie) \n",
    "  RETURN count(m) AS numberOfMovies\n",
    "  \"\"\"\n",
    "graph.query(cypher)"
   ]
  },
  {
   "cell_type": "code",
   "execution_count": 7,
   "metadata": {},
   "outputs": [
    {
     "data": {
      "text/plain": [
       "[{'numberOfPeople': 101}]"
      ]
     },
     "execution_count": 7,
     "metadata": {},
     "output_type": "execute_result"
    }
   ],
   "source": [
    "# Match only the Person nodes\n",
    "\n",
    "cypher = \"\"\"\n",
    "  MATCH (people:Person) \n",
    "  RETURN count(people) AS numberOfPeople\n",
    "  \"\"\"\n",
    "graph.query(cypher)"
   ]
  },
  {
   "cell_type": "code",
   "execution_count": 8,
   "metadata": {},
   "outputs": [
    {
     "data": {
      "text/plain": [
       "[{'tom': {'name': 'Tom Hanks'}}]"
      ]
     },
     "execution_count": 8,
     "metadata": {},
     "output_type": "execute_result"
    }
   ],
   "source": [
    "# Match a single person by specifying the value of the `name` property on the `Person` node\n",
    "cypher = \"\"\"\n",
    "  MATCH (tom:Person {name:\"Tom Hanks\"}) \n",
    "  RETURN tom\n",
    "  \"\"\"\n",
    "graph.query(cypher)"
   ]
  },
  {
   "cell_type": "code",
   "execution_count": 9,
   "metadata": {},
   "outputs": [
    {
     "data": {
      "text/plain": [
       "[{'Jumanji': {'taglineEmbedding': [-0.75082374,\n",
       "    0.10298024,\n",
       "    -0.17034875,\n",
       "    0.0054497495,\n",
       "    -0.025585372,\n",
       "    -0.050306626,\n",
       "    -0.11541125,\n",
       "    0.06295377,\n",
       "    -0.088095635,\n",
       "    1.5642926,\n",
       "    -0.05525975,\n",
       "    -0.061391335,\n",
       "    -0.16391563,\n",
       "    0.08153762,\n",
       "    0.20208724,\n",
       "    0.109474845,\n",
       "    -0.012328625,\n",
       "    1.0105963,\n",
       "    -0.09926113,\n",
       "    -0.09264857,\n",
       "    -0.13071337,\n",
       "    0.064044,\n",
       "    0.08809325,\n",
       "    -0.28114,\n",
       "    -0.1239535,\n",
       "    -0.1315475,\n",
       "    0.19702412,\n",
       "    0.070859276,\n",
       "    -0.1023095,\n",
       "    -0.059510864,\n",
       "    -0.109978005,\n",
       "    0.047317114,\n",
       "    -0.14043576,\n",
       "    -0.095549,\n",
       "    0.060403496,\n",
       "    0.10270625,\n",
       "    -0.1591875,\n",
       "    0.18907124,\n",
       "    -0.08402738,\n",
       "    -0.05999875,\n",
       "    0.08370975,\n",
       "    0.01752463,\n",
       "    0.045296997,\n",
       "    -0.18700211,\n",
       "    0.20786011,\n",
       "    0.004717499,\n",
       "    -0.14997174,\n",
       "    0.08057263,\n",
       "    -0.0122385,\n",
       "    0.18808027,\n",
       "    0.10613749,\n",
       "    0.13690263,\n",
       "    0.28994727,\n",
       "    0.037077762,\n",
       "    0.016752437,\n",
       "    -0.01685049,\n",
       "    -0.057619624,\n",
       "    0.026361542,\n",
       "    -0.13545676,\n",
       "    -0.17083937,\n",
       "    -0.23927,\n",
       "    0.07908787,\n",
       "    -0.017343746,\n",
       "    0.07537251,\n",
       "    0.01587737,\n",
       "    -0.044222705,\n",
       "    0.07188087,\n",
       "    0.067263074,\n",
       "    0.009437748,\n",
       "    0.057950497,\n",
       "    0.012421243,\n",
       "    0.08552613,\n",
       "    0.030229999,\n",
       "    -0.106745884,\n",
       "    -0.16733299,\n",
       "    0.07350226,\n",
       "    0.07061287,\n",
       "    -0.011241126,\n",
       "    -0.034783866,\n",
       "    0.053108998,\n",
       "    -0.032511257,\n",
       "    0.04499425,\n",
       "    0.0691901,\n",
       "    0.041668754,\n",
       "    0.22301938,\n",
       "    0.08284027,\n",
       "    0.43250972,\n",
       "    0.08392885,\n",
       "    0.029481377,\n",
       "    -0.12772596,\n",
       "    0.10432875,\n",
       "    -0.034121253,\n",
       "    -0.098646745,\n",
       "    0.050461248,\n",
       "    -0.043275747,\n",
       "    -0.21683876,\n",
       "    0.122523114,\n",
       "    0.12286077,\n",
       "    -0.09435251,\n",
       "    0.16450849,\n",
       "    -0.09226226,\n",
       "    -0.069772504,\n",
       "    -0.146965,\n",
       "    0.0904475,\n",
       "    0.15732662,\n",
       "    -1.3571604,\n",
       "    0.1377475,\n",
       "    0.064981624,\n",
       "    0.0030880757,\n",
       "    -0.084161006,\n",
       "    0.0456952,\n",
       "    -0.33038002,\n",
       "    0.0004961239,\n",
       "    0.04560726,\n",
       "    0.007833872,\n",
       "    0.0380695,\n",
       "    0.06783772,\n",
       "    -0.2706771,\n",
       "    -0.212919,\n",
       "    0.05506137,\n",
       "    0.12757863,\n",
       "    -0.013468627,\n",
       "    0.024551878,\n",
       "    -0.1464665,\n",
       "    -0.12221062,\n",
       "    -0.07858875,\n",
       "    -0.07550062,\n",
       "    -0.079894744,\n",
       "    -0.18252298,\n",
       "    0.07460927,\n",
       "    -0.0743745,\n",
       "    -0.12228094,\n",
       "    0.08712338,\n",
       "    0.090618186,\n",
       "    0.29211226,\n",
       "    0.043603953,\n",
       "    -0.0744375,\n",
       "    0.03164125,\n",
       "    -0.26056808,\n",
       "    0.06308365,\n",
       "    -1.5386913,\n",
       "    0.13789025,\n",
       "    -0.042854752,\n",
       "    -0.20774113,\n",
       "    -0.11841338,\n",
       "    0.04579129,\n",
       "    0.16073625,\n",
       "    0.13208799,\n",
       "    0.11872424,\n",
       "    -0.052926376,\n",
       "    -0.20097075,\n",
       "    0.2389425,\n",
       "    0.30654374,\n",
       "    0.115399,\n",
       "    0.025843997,\n",
       "    -0.11628476,\n",
       "    -0.027110126,\n",
       "    0.2634219,\n",
       "    -0.12305812,\n",
       "    -0.28293684,\n",
       "    0.1615169,\n",
       "    0.19294201,\n",
       "    -0.10869926,\n",
       "    -0.07328788,\n",
       "    -0.1209225,\n",
       "    -0.137135,\n",
       "    0.20241459,\n",
       "    0.075957,\n",
       "    0.118633755,\n",
       "    -0.12738751,\n",
       "    0.05661637,\n",
       "    -0.16279748,\n",
       "    -0.005798498,\n",
       "    0.016779251,\n",
       "    0.08512187,\n",
       "    -0.13281876,\n",
       "    -0.22603963,\n",
       "    -0.052323997,\n",
       "    0.20264263,\n",
       "    -0.06644825,\n",
       "    -0.19902284,\n",
       "    -0.011231,\n",
       "    -0.29615423,\n",
       "    0.19941987,\n",
       "    0.025869,\n",
       "    -0.0027477508,\n",
       "    0.019254753,\n",
       "    -0.024386982,\n",
       "    -0.11047512,\n",
       "    0.023264304,\n",
       "    0.20247512,\n",
       "    -0.13601625,\n",
       "    -0.09657175,\n",
       "    0.13065875,\n",
       "    0.009363745,\n",
       "    -0.024860874,\n",
       "    -0.15105912,\n",
       "    -0.1871465,\n",
       "    -0.19236724,\n",
       "    0.02119975,\n",
       "    0.12118061,\n",
       "    -0.058239017,\n",
       "    0.040144876,\n",
       "    -0.034352995,\n",
       "    -0.076949,\n",
       "    -0.13911337,\n",
       "    -0.09296987,\n",
       "    -0.011956006,\n",
       "    -0.07684824,\n",
       "    -0.0001463741,\n",
       "    0.03307388,\n",
       "    0.01220975,\n",
       "    0.025537249,\n",
       "    -0.0029556304,\n",
       "    0.011558874,\n",
       "    -0.01683925,\n",
       "    0.11527263,\n",
       "    0.011894118,\n",
       "    0.13606787,\n",
       "    0.014252321,\n",
       "    0.0062030815,\n",
       "    -0.015927996,\n",
       "    -0.2945195,\n",
       "    -0.062206373,\n",
       "    0.19131376,\n",
       "    -0.2408781,\n",
       "    -0.069264255,\n",
       "    -0.018028125,\n",
       "    0.13016212,\n",
       "    -0.0023267511,\n",
       "    -0.0042512487,\n",
       "    -0.22739488,\n",
       "    0.11431162,\n",
       "    0.08615777,\n",
       "    -0.08293244,\n",
       "    0.016078746,\n",
       "    -0.056595884,\n",
       "    -0.063752994,\n",
       "    0.0075457445,\n",
       "    -0.0011987481,\n",
       "    0.07819874,\n",
       "    0.0712575,\n",
       "    -0.017269753,\n",
       "    0.19829588,\n",
       "    0.08281537,\n",
       "    -0.040298007,\n",
       "    -0.079478756,\n",
       "    -0.018256627,\n",
       "    0.033599246,\n",
       "    0.23155788,\n",
       "    -0.02455325,\n",
       "    -0.02020375,\n",
       "    -0.06150649,\n",
       "    0.15517393,\n",
       "    -0.022418376,\n",
       "    0.4806387,\n",
       "    -0.033127584,\n",
       "    -0.046501998,\n",
       "    0.094115615,\n",
       "    0.14849237,\n",
       "    -0.24403639,\n",
       "    -0.13432926,\n",
       "    -0.07319287,\n",
       "    -0.014946248,\n",
       "    0.020593747,\n",
       "    -0.033204995,\n",
       "    -0.03542375,\n",
       "    0.23169374,\n",
       "    0.08494625,\n",
       "    -0.010011625,\n",
       "    0.2746635,\n",
       "    -0.07465275,\n",
       "    -0.13367613,\n",
       "    -0.159607,\n",
       "    -0.1438561,\n",
       "    0.031509873,\n",
       "    -0.15145263,\n",
       "    0.080489,\n",
       "    -0.11281451,\n",
       "    0.3597657,\n",
       "    0.010832127,\n",
       "    -0.12277825,\n",
       "    -0.10057712,\n",
       "    0.12639852,\n",
       "    -0.030641863,\n",
       "    0.05586625,\n",
       "    0.046064176,\n",
       "    -0.205269,\n",
       "    0.11011375,\n",
       "    0.008861623,\n",
       "    -0.18225002,\n",
       "    0.052954502,\n",
       "    -0.029693872,\n",
       "    -0.029578757,\n",
       "    -0.13390252,\n",
       "    0.21627674,\n",
       "    -0.039045624,\n",
       "    -0.025007881,\n",
       "    0.041417494,\n",
       "    -0.08647737],\n",
       "   'tagline': 'Roll the dice and unleash the excitement!',\n",
       "   'imdbRating': 6.9,\n",
       "   'id': '2',\n",
       "   'title': 'Jumanji',\n",
       "   'released': neo4j.time.Date(1995, 12, 15)}}]"
      ]
     },
     "execution_count": 9,
     "metadata": {},
     "output_type": "execute_result"
    }
   ],
   "source": [
    "# Match a single Movie by specifying the value of the title property\n",
    "\n",
    "cypher = \"\"\"\n",
    "  MATCH (Jumanji:Movie {title:\"Jumanji\"}) \n",
    "  RETURN Jumanji\n",
    "  \"\"\"\n",
    "graph.query(cypher)"
   ]
  },
  {
   "cell_type": "code",
   "execution_count": 10,
   "metadata": {},
   "outputs": [
    {
     "data": {
      "text/plain": [
       "[{'Casino': {'taglineEmbedding': [-0.741925,\n",
       "    0.37815708,\n",
       "    -0.17343162,\n",
       "    -0.07599312,\n",
       "    -0.078896,\n",
       "    0.046057,\n",
       "    0.13510674,\n",
       "    -0.23819613,\n",
       "    0.048988625,\n",
       "    2.1147325,\n",
       "    -0.1836215,\n",
       "    -0.1741905,\n",
       "    -0.1128425,\n",
       "    -0.023646249,\n",
       "    -0.24259998,\n",
       "    0.02794086,\n",
       "    -0.1542355,\n",
       "    0.82683027,\n",
       "    -0.18677512,\n",
       "    0.08593575,\n",
       "    -0.050785247,\n",
       "    -0.0059497505,\n",
       "    0.192065,\n",
       "    -0.25220123,\n",
       "    -0.016442876,\n",
       "    -0.032416,\n",
       "    -0.10524137,\n",
       "    -0.17309709,\n",
       "    0.0403875,\n",
       "    -0.035276376,\n",
       "    0.075558476,\n",
       "    0.14440751,\n",
       "    -0.0035311338,\n",
       "    0.06952162,\n",
       "    0.074005,\n",
       "    0.24805936,\n",
       "    -0.07527049,\n",
       "    0.036861498,\n",
       "    -0.086183645,\n",
       "    -0.007589503,\n",
       "    0.074248396,\n",
       "    0.023538757,\n",
       "    -0.043442678,\n",
       "    0.16902624,\n",
       "    0.1830775,\n",
       "    -0.014724502,\n",
       "    -0.06034085,\n",
       "    0.018728001,\n",
       "    -0.30627164,\n",
       "    0.026699007,\n",
       "    -0.12122625,\n",
       "    0.39527863,\n",
       "    0.21226527,\n",
       "    -0.03689225,\n",
       "    -0.08311803,\n",
       "    0.032417253,\n",
       "    -0.031062122,\n",
       "    -0.04013025,\n",
       "    0.0418085,\n",
       "    -0.13295211,\n",
       "    -0.13253188,\n",
       "    -0.2710884,\n",
       "    -0.018838625,\n",
       "    0.1577625,\n",
       "    0.2969011,\n",
       "    0.036302127,\n",
       "    -0.04502077,\n",
       "    -0.015941203,\n",
       "    0.1663715,\n",
       "    -0.059865125,\n",
       "    0.16601187,\n",
       "    0.112252,\n",
       "    0.14633237,\n",
       "    -0.12526087,\n",
       "    -0.16186137,\n",
       "    0.22863989,\n",
       "    0.19768187,\n",
       "    -0.22372878,\n",
       "    -0.12008026,\n",
       "    0.2756411,\n",
       "    -0.03909663,\n",
       "    0.21949624,\n",
       "    0.038284045,\n",
       "    -0.15871575,\n",
       "    -0.0044258777,\n",
       "    -0.024327543,\n",
       "    0.50525373,\n",
       "    -0.35201374,\n",
       "    0.014539499,\n",
       "    -0.25464624,\n",
       "    -0.04616874,\n",
       "    -0.02665725,\n",
       "    -0.15502499,\n",
       "    -0.20052913,\n",
       "    0.0149842445,\n",
       "    -0.34854978,\n",
       "    0.055338755,\n",
       "    -0.032646626,\n",
       "    0.2518165,\n",
       "    0.21472387,\n",
       "    -0.22025913,\n",
       "    0.0731445,\n",
       "    -0.053450625,\n",
       "    0.11932662,\n",
       "    0.38883033,\n",
       "    -0.5079712,\n",
       "    0.014617502,\n",
       "    -0.11708037,\n",
       "    -0.07098601,\n",
       "    -0.017551877,\n",
       "    0.0045891255,\n",
       "    -0.2863284,\n",
       "    -0.031555627,\n",
       "    -0.011388626,\n",
       "    -0.18561164,\n",
       "    0.07668225,\n",
       "    0.01992825,\n",
       "    -0.3089375,\n",
       "    -0.1353945,\n",
       "    -0.20754111,\n",
       "    0.104958564,\n",
       "    0.0841915,\n",
       "    -0.09044413,\n",
       "    -0.25551188,\n",
       "    0.010399876,\n",
       "    0.07749151,\n",
       "    -0.01602425,\n",
       "    -0.11800589,\n",
       "    -0.13121837,\n",
       "    -0.066123754,\n",
       "    0.015668686,\n",
       "    0.005684377,\n",
       "    -0.045381997,\n",
       "    0.08181375,\n",
       "    0.13072228,\n",
       "    -0.18043788,\n",
       "    -0.1948845,\n",
       "    0.11214707,\n",
       "    -0.01885175,\n",
       "    -0.10543439,\n",
       "    -1.5815873,\n",
       "    0.230845,\n",
       "    0.18795812,\n",
       "    -0.06780013,\n",
       "    -0.07713337,\n",
       "    -0.13838,\n",
       "    -0.005312372,\n",
       "    0.13660364,\n",
       "    -0.050563868,\n",
       "    0.11743884,\n",
       "    0.027480893,\n",
       "    0.053200375,\n",
       "    0.038580008,\n",
       "    0.045652375,\n",
       "    0.13546388,\n",
       "    -0.10423499,\n",
       "    -0.1477325,\n",
       "    0.18806863,\n",
       "    0.04580213,\n",
       "    -0.17839175,\n",
       "    -0.008995928,\n",
       "    -0.01372085,\n",
       "    0.17858213,\n",
       "    -0.09027488,\n",
       "    -0.13078663,\n",
       "    -0.20611499,\n",
       "    0.035263497,\n",
       "    -0.022842687,\n",
       "    0.08975899,\n",
       "    -0.12888123,\n",
       "    0.0403614,\n",
       "    -0.2216885,\n",
       "    -0.014045371,\n",
       "    -0.10106887,\n",
       "    0.08039124,\n",
       "    0.12989463,\n",
       "    -0.023675872,\n",
       "    0.09913351,\n",
       "    0.04763625,\n",
       "    -0.00599425,\n",
       "    -0.055474874,\n",
       "    -0.11056088,\n",
       "    -0.41991487,\n",
       "    0.0649315,\n",
       "    -0.10409813,\n",
       "    0.15690875,\n",
       "    -0.055837378,\n",
       "    0.13487762,\n",
       "    0.13505237,\n",
       "    0.11759515,\n",
       "    0.22558126,\n",
       "    -0.06675713,\n",
       "    0.022681247,\n",
       "    0.054799873,\n",
       "    -0.1388825,\n",
       "    0.024156876,\n",
       "    -0.09525457,\n",
       "    -0.049968876,\n",
       "    -0.23094924,\n",
       "    0.19522874,\n",
       "    0.23933963,\n",
       "    -0.14907111,\n",
       "    -0.26025525,\n",
       "    0.123440504,\n",
       "    -0.054125376,\n",
       "    -0.14147112,\n",
       "    -0.095060505,\n",
       "    0.14593938,\n",
       "    0.113889135,\n",
       "    0.043677628,\n",
       "    -0.14198817,\n",
       "    0.12267813,\n",
       "    -0.07864409,\n",
       "    -0.123459846,\n",
       "    -0.18364573,\n",
       "    0.066820376,\n",
       "    0.13906161,\n",
       "    -0.035402123,\n",
       "    -0.21254882,\n",
       "    0.04912149,\n",
       "    -0.24812189,\n",
       "    0.024549503,\n",
       "    -0.25363898,\n",
       "    -0.17994986,\n",
       "    0.24978374,\n",
       "    -0.11730075,\n",
       "    -0.05268375,\n",
       "    -0.030125212,\n",
       "    0.123710245,\n",
       "    -0.04126338,\n",
       "    -0.036996998,\n",
       "    -0.077650495,\n",
       "    0.25023624,\n",
       "    0.026650252,\n",
       "    -0.08930701,\n",
       "    -0.0059376284,\n",
       "    0.0736465,\n",
       "    -0.14053039,\n",
       "    -0.041529752,\n",
       "    -0.12569113,\n",
       "    0.015774876,\n",
       "    -0.13811524,\n",
       "    -0.07090762,\n",
       "    0.3070225,\n",
       "    0.0433905,\n",
       "    -0.24641824,\n",
       "    -0.07509,\n",
       "    -0.1992355,\n",
       "    -0.043465752,\n",
       "    0.32686564,\n",
       "    0.16578549,\n",
       "    -0.10672312,\n",
       "    0.16923413,\n",
       "    -0.20388806,\n",
       "    -0.033782378,\n",
       "    0.267794,\n",
       "    -0.11050876,\n",
       "    -0.04377163,\n",
       "    0.11538962,\n",
       "    -0.17480876,\n",
       "    -0.11834438,\n",
       "    0.06782675,\n",
       "    0.14304787,\n",
       "    0.24428914,\n",
       "    0.24881262,\n",
       "    -0.09687875,\n",
       "    -0.07638688,\n",
       "    0.20745352,\n",
       "    0.4496055,\n",
       "    0.24544586,\n",
       "    0.00997325,\n",
       "    -0.20835426,\n",
       "    -0.13027662,\n",
       "    -0.2736809,\n",
       "    -0.010029415,\n",
       "    0.036537755,\n",
       "    0.12748927,\n",
       "    0.043178998,\n",
       "    0.10136875,\n",
       "    0.36532313,\n",
       "    -0.1798215,\n",
       "    -0.17282599,\n",
       "    0.0015677528,\n",
       "    0.060426626,\n",
       "    0.010651126,\n",
       "    0.12456888,\n",
       "    0.13375908,\n",
       "    -0.22880939,\n",
       "    0.12906386,\n",
       "    0.108712494,\n",
       "    -0.20404187,\n",
       "    -0.081080884,\n",
       "    -0.20667651,\n",
       "    -0.0649775,\n",
       "    -0.003503872,\n",
       "    0.17550938,\n",
       "    -0.20009138,\n",
       "    -0.27103874,\n",
       "    0.09246925,\n",
       "    -0.077326976],\n",
       "   'tagline': 'No one stays at the top forever.',\n",
       "   'imdbRating': 8.2,\n",
       "   'id': '16',\n",
       "   'title': 'Casino',\n",
       "   'released': neo4j.time.Date(1995, 11, 22)}}]"
      ]
     },
     "execution_count": 10,
     "metadata": {},
     "output_type": "execute_result"
    }
   ],
   "source": [
    "cypher = \"\"\"\n",
    "  MATCH (Casino:Movie {title:\"Casino\"}) \n",
    "  RETURN Casino\n",
    "  \"\"\"\n",
    "graph.query(cypher)"
   ]
  },
  {
   "cell_type": "code",
   "execution_count": 11,
   "metadata": {},
   "outputs": [
    {
     "data": {
      "text/plain": [
       "[{'Casino.released.year': 1995}]"
      ]
     },
     "execution_count": 11,
     "metadata": {},
     "output_type": "execute_result"
    }
   ],
   "source": [
    "# Return only the released property of the matched Movie node\n",
    "\n",
    "cypher = \"\"\"\n",
    "  MATCH (Casino:Movie {title:\"Casino\"}) \n",
    "  RETURN Casino.released.year\n",
    "  \"\"\"\n",
    "graph.query(cypher)"
   ]
  },
  {
   "cell_type": "code",
   "execution_count": 12,
   "metadata": {},
   "outputs": [
    {
     "data": {
      "text/plain": [
       "[{'Casino.released': neo4j.time.Date(1995, 11, 22),\n",
       "  'Casino.tagline': 'No one stays at the top forever.'}]"
      ]
     },
     "execution_count": 12,
     "metadata": {},
     "output_type": "execute_result"
    }
   ],
   "source": [
    "# Return two properties\n",
    "cypher = \"\"\"\n",
    "  MATCH (Casino:Movie {title:\"Casino\"}) \n",
    "  RETURN Casino.released, Casino.tagline\n",
    "  \"\"\"\n",
    "\n",
    "graph.query(cypher)"
   ]
  },
  {
   "cell_type": "code",
   "execution_count": 13,
   "metadata": {},
   "outputs": [
    {
     "data": {
      "text/plain": [
       "[{'m.released': neo4j.time.Date(1995, 12, 22),\n",
       "  'm.tagline': 'Terror goes into overtime.'}]"
      ]
     },
     "execution_count": 13,
     "metadata": {},
     "output_type": "execute_result"
    }
   ],
   "source": [
    "# Return two properties\n",
    "cypher = \"\"\"\n",
    "  MATCH (m:Movie {title:\"Sudden Death\"}) \n",
    "  RETURN m.released, m.tagline\n",
    "  \"\"\"\n",
    "\n",
    "graph.query(cypher)"
   ]
  },
  {
   "cell_type": "code",
   "execution_count": 14,
   "metadata": {},
   "outputs": [
    {
     "data": {
      "text/plain": [
       "[{'nineties.title': 'Toy Story'},\n",
       " {'nineties.title': 'Jumanji'},\n",
       " {'nineties.title': 'Grumpier Old Men'},\n",
       " {'nineties.title': 'Waiting to Exhale'},\n",
       " {'nineties.title': 'Father of the Bride Part II'},\n",
       " {'nineties.title': 'Heat'},\n",
       " {'nineties.title': 'Sabrina'},\n",
       " {'nineties.title': 'Tom and Huck'},\n",
       " {'nineties.title': 'Sudden Death'},\n",
       " {'nineties.title': 'GoldenEye'},\n",
       " {'nineties.title': 'American President, The'},\n",
       " {'nineties.title': 'Dracula: Dead and Loving It'},\n",
       " {'nineties.title': 'Balto'},\n",
       " {'nineties.title': 'Nixon'},\n",
       " {'nineties.title': 'Cutthroat Island'},\n",
       " {'nineties.title': 'Casino'},\n",
       " {'nineties.title': 'Sense and Sensibility'},\n",
       " {'nineties.title': 'Four Rooms'},\n",
       " {'nineties.title': 'Ace Ventura: When Nature Calls'},\n",
       " {'nineties.title': 'Money Train'}]"
      ]
     },
     "execution_count": 14,
     "metadata": {},
     "output_type": "execute_result"
    }
   ],
   "source": [
    "# Cypher patterns with conditional matching\n",
    "\n",
    "cypher = \"\"\"\n",
    "  MATCH (nineties:Movie) \n",
    "  WHERE nineties.released.year >= 1900\n",
    "    AND nineties.released.year < 2000\n",
    "  RETURN nineties.title\n",
    "  \"\"\"\n",
    "graph.query(cypher)"
   ]
  },
  {
   "cell_type": "code",
   "execution_count": 15,
   "metadata": {},
   "outputs": [
    {
     "data": {
      "text/plain": [
       "[{'actor.name': 'Don Rickles', 'movie.title': 'Toy Story'},\n",
       " {'actor.name': 'Tom Hanks', 'movie.title': 'Toy Story'},\n",
       " {'actor.name': 'Tim Allen', 'movie.title': 'Toy Story'},\n",
       " {'actor.name': 'Jim Varney', 'movie.title': 'Toy Story'},\n",
       " {'actor.name': 'Jonathan Hyde', 'movie.title': 'Jumanji'},\n",
       " {'actor.name': 'Robin Williams', 'movie.title': 'Jumanji'},\n",
       " {'actor.name': 'Kirsten Dunst', 'movie.title': 'Jumanji'},\n",
       " {'actor.name': 'Bradley Pierce', 'movie.title': 'Jumanji'},\n",
       " {'actor.name': 'Jack Lemmon', 'movie.title': 'Grumpier Old Men'},\n",
       " {'actor.name': 'Sophia Loren', 'movie.title': 'Grumpier Old Men'}]"
      ]
     },
     "execution_count": 15,
     "metadata": {},
     "output_type": "execute_result"
    }
   ],
   "source": [
    "# Pattern matching with multiple nodes\n",
    "\n",
    "cypher = \"\"\"\n",
    "  MATCH (actor:Person)-[:ACTED_IN]->(movie:Movie) \n",
    "  RETURN actor.name, movie.title LIMIT 10\n",
    "  \"\"\"\n",
    "graph.query(cypher)"
   ]
  },
  {
   "cell_type": "code",
   "execution_count": 16,
   "metadata": {},
   "outputs": [
    {
     "data": {
      "text/plain": [
       "[{'tom.name': 'Tom Hanks', 'tomHanksMovies.title': 'Toy Story'}]"
      ]
     },
     "execution_count": 16,
     "metadata": {},
     "output_type": "execute_result"
    }
   ],
   "source": [
    "cypher = \"\"\"\n",
    "  MATCH (tom:Person {name: \"Tom Hanks\"})-[:ACTED_IN]->(tomHanksMovies:Movie) \n",
    "  RETURN tom.name,tomHanksMovies.title\n",
    "  \"\"\"\n",
    "graph.query(cypher)"
   ]
  },
  {
   "cell_type": "code",
   "execution_count": 17,
   "metadata": {},
   "outputs": [
    {
     "data": {
      "text/plain": [
       "[{'coActors.name': 'Don Rickles', 'm.title': 'Toy Story'},\n",
       " {'coActors.name': 'Tim Allen', 'm.title': 'Toy Story'},\n",
       " {'coActors.name': 'Jim Varney', 'm.title': 'Toy Story'}]"
      ]
     },
     "execution_count": 17,
     "metadata": {},
     "output_type": "execute_result"
    }
   ],
   "source": [
    "cypher = \"\"\"\n",
    "  MATCH (tom:Person {name:\"Tom Hanks\"})-[:ACTED_IN]->(m)<-[:ACTED_IN]-(coActors) \n",
    "  RETURN coActors.name, m.title\n",
    "  \"\"\"\n",
    "graph.query(cypher)"
   ]
  },
  {
   "cell_type": "markdown",
   "metadata": {},
   "source": [
    "### **Delete/Add (Proceed with caution)** "
   ]
  },
  {
   "cell_type": "code",
   "execution_count": 18,
   "metadata": {},
   "outputs": [
    {
     "data": {
      "text/plain": [
       "[]"
      ]
     },
     "execution_count": 18,
     "metadata": {},
     "output_type": "execute_result"
    }
   ],
   "source": [
    "# Delete data from the graph\n",
    "cypher = \"\"\"\n",
    "MATCH (emil:Person {name:\"Emil Eifrem\"})-[actedIn:ACTED_IN]->(movie:Movie)\n",
    "RETURN emil.name, movie.title\n",
    "\"\"\"\n",
    "graph.query(cypher)"
   ]
  },
  {
   "cell_type": "code",
   "execution_count": 19,
   "metadata": {},
   "outputs": [
    {
     "data": {
      "text/plain": [
       "[]"
      ]
     },
     "execution_count": 19,
     "metadata": {},
     "output_type": "execute_result"
    }
   ],
   "source": [
    "cypher = \"\"\"\n",
    "MATCH (emil:Person {name:\"Emil Eifrem\"})-[actedIn:ACTED_IN]->(movie:Movie)\n",
    "DELETE actedIn\n",
    "\"\"\"\n",
    "graph.query(cypher)"
   ]
  },
  {
   "cell_type": "code",
   "execution_count": 20,
   "metadata": {},
   "outputs": [
    {
     "data": {
      "text/plain": [
       "[{'andreas': {'name': 'Andreas'}}]"
      ]
     },
     "execution_count": 20,
     "metadata": {},
     "output_type": "execute_result"
    }
   ],
   "source": [
    "# Adding data to the graph\n",
    "cypher = \"\"\"\n",
    "CREATE (andreas:Person {name:\"Andreas\"})\n",
    "RETURN andreas\n",
    "\"\"\"\n",
    "\n",
    "graph.query(cypher)"
   ]
  },
  {
   "cell_type": "code",
   "execution_count": 21,
   "metadata": {},
   "outputs": [
    {
     "data": {
      "text/plain": [
       "[]"
      ]
     },
     "execution_count": 21,
     "metadata": {},
     "output_type": "execute_result"
    }
   ],
   "source": [
    "cypher = \"\"\"\n",
    "MATCH (andreas:Person {name:\"Andreas\"}), (emil:Person {name:\"Emil Eifrem\"})\n",
    "MERGE (andreas)-[hasRelationship:WORKS_WITH]->(emil)\n",
    "RETURN andreas, hasRelationship, emil\n",
    "\"\"\"\n",
    "graph.query(cypher)"
   ]
  },
  {
   "cell_type": "code",
   "execution_count": 22,
   "metadata": {},
   "outputs": [
    {
     "data": {
      "text/plain": [
       "[]"
      ]
     },
     "execution_count": 22,
     "metadata": {},
     "output_type": "execute_result"
    }
   ],
   "source": [
    "# Delete everything in a database\n",
    "cypher = \"\"\"\n",
    "MATCH (n)\n",
    "DETACH DELETE n\n",
    "\"\"\"\n",
    "graph.query(cypher)"
   ]
  },
  {
   "cell_type": "code",
   "execution_count": 23,
   "metadata": {},
   "outputs": [
    {
     "data": {
      "text/plain": [
       "[{'count(n)': 0}]"
      ]
     },
     "execution_count": 23,
     "metadata": {},
     "output_type": "execute_result"
    }
   ],
   "source": [
    "# Match all nodes in the graph\n",
    "cypher = \"\"\"\n",
    "  MATCH (n) \n",
    "  RETURN count(n)\n",
    "  \"\"\"\n",
    "result = graph.query(cypher)\n",
    "result"
   ]
  }
 ],
 "metadata": {
  "kernelspec": {
   "display_name": ".venv",
   "language": "python",
   "name": "python3"
  },
  "language_info": {
   "codemirror_mode": {
    "name": "ipython",
    "version": 3
   },
   "file_extension": ".py",
   "mimetype": "text/x-python",
   "name": "python",
   "nbconvert_exporter": "python",
   "pygments_lexer": "ipython3",
   "version": "3.12.3"
  }
 },
 "nbformat": 4,
 "nbformat_minor": 2
}
